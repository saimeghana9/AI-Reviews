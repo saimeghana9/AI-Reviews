{
  "nbformat": 4,
  "nbformat_minor": 0,
  "metadata": {
    "colab": {
      "provenance": []
    },
    "kernelspec": {
      "name": "python3",
      "display_name": "Python 3"
    },
    "language_info": {
      "name": "python"
    }
  },
  "cells": [
    {
      "cell_type": "code",
      "execution_count": null,
      "metadata": {
        "id": "ZUotTjScVWKE"
      },
      "outputs": [],
      "source": [
        "import pandas as pd\n",
        "import numpy as np"
      ]
    },
    {
      "cell_type": "code",
      "source": [
        "from google.colab import drive\n",
        "drive.mount('/content/drive')"
      ],
      "metadata": {
        "colab": {
          "base_uri": "https://localhost:8080/"
        },
        "id": "1lpuEbPBVhr_",
        "outputId": "faa489eb-49de-42c2-fac3-93c9145279dd"
      },
      "execution_count": null,
      "outputs": [
        {
          "output_type": "stream",
          "name": "stdout",
          "text": [
            "Drive already mounted at /content/drive; to attempt to forcibly remount, call drive.mount(\"/content/drive\", force_remount=True).\n"
          ]
        }
      ]
    },
    {
      "cell_type": "code",
      "source": [
        "file_paths = {\n",
        "    'ChatGPT': '/content/drive/MyDrive/AI_Reviews/Chatgpt.csv',\n",
        "    'Deepseek': '/content/drive/MyDrive/AI_Reviews/Deepseek.csv',\n",
        "    'Gemini': '/content/drive/MyDrive/AI_Reviews/Gemini.csv',\n",
        "    'Claude': '/content/drive/MyDrive/AI_Reviews/Claude.csv',\n",
        "    'Siri': '/content/drive/MyDrive/AI_Reviews/Siri.csv',\n",
        "    'Alexa': '/content/drive/MyDrive/AI_Reviews/Alexa.csv'\n",
        "}"
      ],
      "metadata": {
        "id": "5Sw4SuIPVpKk"
      },
      "execution_count": null,
      "outputs": []
    },
    {
      "cell_type": "code",
      "source": [
        "questions_keywords = {\n",
        "    \"Is it safe to use?\": [\"safe\", \"security\", \"privacy\", \"trust\", \"hack\", \"personal data\", \"information\", \"protect\"],\n",
        "    \"How accurate or reliable are the results?\": [\"accurate\", \"accuracy\", \"reliable\", \"reliability\", \"correct\", \"wrong\", \"error\", \"mistake\", \"hallucination\", \"fact\", \"false\"],\n",
        "    \"How much does it cost?\": [\"cost\", \"price\", \"expensive\", \"cheap\", \"subscription\", \"free\", \"money\", \"value\", \"pay\", \"purchase\", \"plan\"],\n",
        "    \"Do I need technical expertise to use it?\": [\"technical\", \"easy to use\", \"simple\", \"complex\", \"difficult\", \"hard\", \"user-friendly\", \"intuitive\", \"learning curve\", \"complicated\"],\n",
        "    \"What happens to my data?\": [\"data\", \"my information\", \"storage\", \"delete\", \"save\", \"collect\", \"ownership\"],\n",
        "    \"Is it ethical and unbiased?\": [\"bias\", \"biased\", \"ethical\", \"unethical\", \"fair\", \"unfair\", \"racist\", \"sexist\", \"discriminat\", \"political\"],\n",
        "    \"How fast are the responses?\": [\"fast\", \"slow\", \"speed\", \"quick\", \"lag\", \"delay\", \"wait\", \"loading\", \"timeout\", \"responsive\"],\n",
        "    \"Is there a limit to usage?\": [\"limit\", \"cap\", \"quota\", \"restriction\", \"message limit\", \"can't use\", \"throttle\", \"premium\", \"paywall\"],\n",
        "    \"How customizable is it?\": [\"customiz\", \"personaliz\", \"flexible\", \"control\", \"settings\", \"options\", \"tailor\", \"configure\"]\n",
        "}"
      ],
      "metadata": {
        "id": "qh7yw0YWVu6j"
      },
      "execution_count": null,
      "outputs": []
    },
    {
      "cell_type": "code",
      "source": [
        "positive_words = [\"good\", \"great\", \"excellent\", \"awesome\", \"perfect\", \"love\", \"best\", \"fast\", \"accurate\", \"helpful\", \"secure\", \"safe\", \"easy\", \"intuitive\", \"reliable\", \"amazing\", \"fantastic\", \"wonderful\", \"quick\", \"responsive\"]\n",
        "negative_words = [\"bad\", \"terrible\", \"poor\", \"slow\", \"wrong\", \"error\", \"bug\", \"crash\", \"hack\", \"expensive\", \"difficult\", \"complex\", \"unreliable\", \"useless\", \"broken\", \"worst\", \"horrible\", \"awful\", \"frustrating\", \"inaccurate\"]"
      ],
      "metadata": {
        "id": "k2IcTYvodw3y"
      },
      "execution_count": null,
      "outputs": []
    },
    {
      "cell_type": "code",
      "source": [
        "master_data_list = []"
      ],
      "metadata": {
        "id": "L4Bx9kkaVzyD"
      },
      "execution_count": null,
      "outputs": []
    },
    {
      "cell_type": "code",
      "source": [
        "def calculate_custom_sentiment(text):\n",
        "    \"\"\"\n",
        "    Calculates a custom sentiment score for a text.\n",
        "    +1 for each positive word, -1 for each negative word.\n",
        "    Score is then averaged over 10 words to normalize for length.\n",
        "    \"\"\"\n",
        "    if not isinstance(text, str):\n",
        "        return 0\n",
        "\n",
        "    words = text.lower().split()\n",
        "    total_words = len(words)\n",
        "    if total_words == 0:\n",
        "        return 0\n",
        "\n",
        "    score = 0\n",
        "\n",
        "    for word in words:\n",
        "        if word in positive_words:\n",
        "            score += 1\n",
        "        elif word in negative_words:\n",
        "            score -= 1\n",
        "\n",
        "\n",
        "    normalized_score = (score / total_words) * 10\n",
        "    return round(normalized_score, 2)\n",
        "\n",
        "\n",
        "master_data_list = []\n",
        "\n",
        "\n",
        "for service_name, file_path in file_paths.items():\n",
        "    try:\n",
        "        print(f\"Processing {service_name}...\")\n",
        "\n",
        "\n",
        "        df = pd.read_csv(file_path, low_memory=False)\n",
        "\n",
        "        text_column = None\n",
        "        rating_column = None\n",
        "\n",
        "        if service_name == 'ChatGPT':\n",
        "            text_column = 'content'\n",
        "            rating_column = 'score'\n",
        "        elif service_name == 'Deepseek':\n",
        "            text_column = 'content'\n",
        "            rating_column = 'score'\n",
        "        elif service_name == 'Gemini':\n",
        "            text_column = 'content'\n",
        "            rating_column = 'score'\n",
        "        elif service_name == 'Claude':\n",
        "            text_column = 'content'\n",
        "            rating_column = 'score'\n",
        "        elif service_name == 'Siri':\n",
        "            text_column = 'reviewDescription'\n",
        "            rating_column = 'ratingScore'\n",
        "\n",
        "            df['reviewDescription'] = df['reviewDescription'].fillna('')\n",
        "        elif service_name == 'Alexa':\n",
        "            text_column = 'verified_reviews'\n",
        "            rating_column = ' score'\n",
        "\n",
        "\n",
        "        if text_column is None or rating_column is None or text_column not in df.columns or rating_column not in df.columns:\n",
        "            print(f\"Warning: Could not find required columns in {service_name}. Skipping.\")\n",
        "            print(f\"Columns found: {df.columns.tolist()}\")\n",
        "            continue\n",
        "\n",
        "\n",
        "        df['text_lower'] = df[text_column].astype(str).str.lower()\n",
        "\n",
        "\n",
        "        df['custom_sentiment'] = df['text_lower'].apply(calculate_custom_sentiment)\n",
        "\n",
        "\n",
        "        for question, keywords in questions_keywords.items():\n",
        "\n",
        "            pattern = '|'.join(keywords)\n",
        "\n",
        "            matched_reviews = df[df['text_lower'].str.contains(pattern, na=False)]\n",
        "\n",
        "\n",
        "            num_matches = len(matched_reviews)\n",
        "\n",
        "\n",
        "            sample_size = min(100, num_matches)\n",
        "            if num_matches > 0:\n",
        "                sampled_reviews = matched_reviews.sample(n=sample_size, random_state=42)\n",
        "            else:\n",
        "\n",
        "                continue\n",
        "\n",
        "\n",
        "            for _, review in sampled_reviews.iterrows():\n",
        "                new_row = {\n",
        "                    'Service': service_name,\n",
        "                    'Question': question,\n",
        "                    'Primary Data Source': review[text_column],\n",
        "                    'Secondary Data Source': review[rating_column],\n",
        "                    'Custom Sentiment Score': review['custom_sentiment'],\n",
        "                    'Analysis Type': 'Keyword/Text Analysis'\n",
        "                }\n",
        "                master_data_list.append(new_row)\n",
        "\n",
        "        print(f\"Finished processing: {service_name}\")\n",
        "\n",
        "    except Exception as e:\n",
        "        print(f\"An error occurred with {service_name}: {str(e)}\")\n"
      ],
      "metadata": {
        "colab": {
          "base_uri": "https://localhost:8080/"
        },
        "id": "AKghgcceV-BN",
        "outputId": "c81278a6-c869-4326-e746-f4d071def234"
      },
      "execution_count": null,
      "outputs": [
        {
          "output_type": "stream",
          "name": "stdout",
          "text": [
            "Processing ChatGPT...\n",
            "Finished processing: ChatGPT\n",
            "Processing Deepseek...\n",
            "Finished processing: Deepseek\n",
            "Processing Gemini...\n",
            "Finished processing: Gemini\n",
            "Processing Claude...\n",
            "Finished processing: Claude\n",
            "Processing Siri...\n",
            "Finished processing: Siri\n",
            "Processing Alexa...\n",
            "Finished processing: Alexa\n"
          ]
        }
      ]
    },
    {
      "cell_type": "code",
      "source": [
        "final_master_df = pd.DataFrame(master_data_list)"
      ],
      "metadata": {
        "id": "J0q3n_AYWk8V"
      },
      "execution_count": null,
      "outputs": []
    },
    {
      "cell_type": "code",
      "source": [
        "print(final_master_df)"
      ],
      "metadata": {
        "colab": {
          "base_uri": "https://localhost:8080/"
        },
        "id": "WU4_2SnBWpB0",
        "outputId": "a8d10f01-c30e-4171-de56-128ef3d86429"
      },
      "execution_count": null,
      "outputs": [
        {
          "output_type": "stream",
          "name": "stdout",
          "text": [
            "      Service                 Question  \\\n",
            "0     ChatGPT       Is it safe to use?   \n",
            "1     ChatGPT       Is it safe to use?   \n",
            "2     ChatGPT       Is it safe to use?   \n",
            "3     ChatGPT       Is it safe to use?   \n",
            "4     ChatGPT       Is it safe to use?   \n",
            "...       ...                      ...   \n",
            "4864    Alexa  How customizable is it?   \n",
            "4865    Alexa  How customizable is it?   \n",
            "4866    Alexa  How customizable is it?   \n",
            "4867    Alexa  How customizable is it?   \n",
            "4868    Alexa  How customizable is it?   \n",
            "\n",
            "                                    Primary Data Source  \\\n",
            "0     can still follow the rules but sometimes we yo...   \n",
            "1                  Best information gide,thaks chat GPT   \n",
            "2                     nice app. need more informations.   \n",
            "3     Very nice app give all information and also gi...   \n",
            "4     I think will take so long to a great, interest...   \n",
            "...                                                 ...   \n",
            "4864  Pros- plenty loud for a large room with high c...   \n",
            "4865  Love this product I use it as my bedroom clock...   \n",
            "4866  My wife has been using Skype for years to talk...   \n",
            "4867  Alexa is the best smart speaker out there I'm ...   \n",
            "4868  Bought this for our son as his birthday presen...   \n",
            "\n",
            "      Secondary Data Source  Custom Sentiment Score          Analysis Type  \n",
            "0                         4                    0.24  Keyword/Text Analysis  \n",
            "1                         4                    2.00  Keyword/Text Analysis  \n",
            "2                         3                    0.00  Keyword/Text Analysis  \n",
            "3                         5                    0.00  Keyword/Text Analysis  \n",
            "4                         4                    0.12  Keyword/Text Analysis  \n",
            "...                     ...                     ...                    ...  \n",
            "4864                      3                    0.00  Keyword/Text Analysis  \n",
            "4865                      5                    0.32  Keyword/Text Analysis  \n",
            "4866                      5                    0.00  Keyword/Text Analysis  \n",
            "4867                      5                    0.68  Keyword/Text Analysis  \n",
            "4868                      5                    0.00  Keyword/Text Analysis  \n",
            "\n",
            "[4869 rows x 6 columns]\n"
          ]
        }
      ]
    },
    {
      "cell_type": "code",
      "source": [
        "output_path = '/content/drive/MyDrive/AI_Reviews/Filtered_AI_Reviews_Master.csv'\n",
        "final_master_df.to_csv(output_path, index=False)\n",
        "\n",
        "print(\"Processing complete!\")\n",
        "print(f\"Final master CSV saved to: {output_path}\")\n",
        "print(f\"Total number of rows in the new file: {len(final_master_df)}\")"
      ],
      "metadata": {
        "colab": {
          "base_uri": "https://localhost:8080/"
        },
        "id": "8Scc9GbFW17h",
        "outputId": "ac95de79-37d5-4b27-928c-1142a8aade5a"
      },
      "execution_count": null,
      "outputs": [
        {
          "output_type": "stream",
          "name": "stdout",
          "text": [
            "Processing complete!\n",
            "Final master CSV saved to: /content/drive/MyDrive/AI_Reviews/Filtered_AI_Reviews_Master.csv\n",
            "Total number of rows in the new file: 4869\n"
          ]
        }
      ]
    }
  ]
}